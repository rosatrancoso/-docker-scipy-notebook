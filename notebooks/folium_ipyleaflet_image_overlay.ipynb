{
 "cells": [
  {
   "cell_type": "code",
   "execution_count": 1,
   "id": "comic-whole",
   "metadata": {},
   "outputs": [
    {
     "data": {
      "text/html": [
       "<svg height=\"40\" width=\"450\"><line x1=\"0\" y1=\"15\" x2=\"0\" y2=\"27\" style=\"stroke:#440154ff;stroke-width:2;\" /><line x1=\"1\" y1=\"15\" x2=\"1\" y2=\"27\" style=\"stroke:#440154ff;stroke-width:2;\" /><line x1=\"2\" y1=\"15\" x2=\"2\" y2=\"27\" style=\"stroke:#440154ff;stroke-width:2;\" /><line x1=\"3\" y1=\"15\" x2=\"3\" y2=\"27\" style=\"stroke:#440154ff;stroke-width:2;\" /><line x1=\"4\" y1=\"15\" x2=\"4\" y2=\"27\" style=\"stroke:#440154ff;stroke-width:2;\" /><line x1=\"5\" y1=\"15\" x2=\"5\" y2=\"27\" style=\"stroke:#440154ff;stroke-width:2;\" /><line x1=\"6\" y1=\"15\" x2=\"6\" y2=\"27\" style=\"stroke:#440154ff;stroke-width:2;\" /><line x1=\"7\" y1=\"15\" x2=\"7\" y2=\"27\" style=\"stroke:#440154ff;stroke-width:2;\" /><line x1=\"8\" y1=\"15\" x2=\"8\" y2=\"27\" style=\"stroke:#440154ff;stroke-width:2;\" /><line x1=\"9\" y1=\"15\" x2=\"9\" y2=\"27\" style=\"stroke:#440154ff;stroke-width:2;\" /><line x1=\"10\" y1=\"15\" x2=\"10\" y2=\"27\" style=\"stroke:#440154ff;stroke-width:2;\" /><line x1=\"11\" y1=\"15\" x2=\"11\" y2=\"27\" style=\"stroke:#440154ff;stroke-width:2;\" /><line x1=\"12\" y1=\"15\" x2=\"12\" y2=\"27\" style=\"stroke:#440154ff;stroke-width:2;\" /><line x1=\"13\" y1=\"15\" x2=\"13\" y2=\"27\" style=\"stroke:#440154ff;stroke-width:2;\" /><line x1=\"14\" y1=\"15\" x2=\"14\" y2=\"27\" style=\"stroke:#440154ff;stroke-width:2;\" /><line x1=\"15\" y1=\"15\" x2=\"15\" y2=\"27\" style=\"stroke:#440154ff;stroke-width:2;\" /><line x1=\"16\" y1=\"15\" x2=\"16\" y2=\"27\" style=\"stroke:#440154ff;stroke-width:2;\" /><line x1=\"17\" y1=\"15\" x2=\"17\" y2=\"27\" style=\"stroke:#440154ff;stroke-width:2;\" /><line x1=\"18\" y1=\"15\" x2=\"18\" y2=\"27\" style=\"stroke:#440154ff;stroke-width:2;\" /><line x1=\"19\" y1=\"15\" x2=\"19\" y2=\"27\" style=\"stroke:#440154ff;stroke-width:2;\" /><line x1=\"20\" y1=\"15\" x2=\"20\" y2=\"27\" style=\"stroke:#440154ff;stroke-width:2;\" /><line x1=\"21\" y1=\"15\" x2=\"21\" y2=\"27\" style=\"stroke:#440154ff;stroke-width:2;\" /><line x1=\"22\" y1=\"15\" x2=\"22\" y2=\"27\" style=\"stroke:#440154ff;stroke-width:2;\" /><line x1=\"23\" y1=\"15\" x2=\"23\" y2=\"27\" style=\"stroke:#440154ff;stroke-width:2;\" /><line x1=\"24\" y1=\"15\" x2=\"24\" y2=\"27\" style=\"stroke:#440154ff;stroke-width:2;\" /><line x1=\"25\" y1=\"15\" x2=\"25\" y2=\"27\" style=\"stroke:#440154ff;stroke-width:2;\" /><line x1=\"26\" y1=\"15\" x2=\"26\" y2=\"27\" style=\"stroke:#440154ff;stroke-width:2;\" /><line x1=\"27\" y1=\"15\" x2=\"27\" y2=\"27\" style=\"stroke:#440154ff;stroke-width:2;\" /><line x1=\"28\" y1=\"15\" x2=\"28\" y2=\"27\" style=\"stroke:#440154ff;stroke-width:2;\" /><line x1=\"29\" y1=\"15\" x2=\"29\" y2=\"27\" style=\"stroke:#440154ff;stroke-width:2;\" /><line x1=\"30\" y1=\"15\" x2=\"30\" y2=\"27\" style=\"stroke:#440154ff;stroke-width:2;\" /><line x1=\"31\" y1=\"15\" x2=\"31\" y2=\"27\" style=\"stroke:#440154ff;stroke-width:2;\" /><line x1=\"32\" y1=\"15\" x2=\"32\" y2=\"27\" style=\"stroke:#440154ff;stroke-width:2;\" /><line x1=\"33\" y1=\"15\" x2=\"33\" y2=\"27\" style=\"stroke:#440154ff;stroke-width:2;\" /><line x1=\"34\" y1=\"15\" x2=\"34\" y2=\"27\" style=\"stroke:#440154ff;stroke-width:2;\" /><line x1=\"35\" y1=\"15\" x2=\"35\" y2=\"27\" style=\"stroke:#440154ff;stroke-width:2;\" /><line x1=\"36\" y1=\"15\" x2=\"36\" y2=\"27\" style=\"stroke:#440154ff;stroke-width:2;\" /><line x1=\"37\" y1=\"15\" x2=\"37\" y2=\"27\" style=\"stroke:#440154ff;stroke-width:2;\" /><line x1=\"38\" y1=\"15\" x2=\"38\" y2=\"27\" style=\"stroke:#440154ff;stroke-width:2;\" /><line x1=\"39\" y1=\"15\" x2=\"39\" y2=\"27\" style=\"stroke:#440154ff;stroke-width:2;\" /><line x1=\"40\" y1=\"15\" x2=\"40\" y2=\"27\" style=\"stroke:#440154ff;stroke-width:2;\" /><line x1=\"41\" y1=\"15\" x2=\"41\" y2=\"27\" style=\"stroke:#440154ff;stroke-width:2;\" /><line x1=\"42\" y1=\"15\" x2=\"42\" y2=\"27\" style=\"stroke:#440154ff;stroke-width:2;\" /><line x1=\"43\" y1=\"15\" x2=\"43\" y2=\"27\" style=\"stroke:#440154ff;stroke-width:2;\" /><line x1=\"44\" y1=\"15\" x2=\"44\" y2=\"27\" style=\"stroke:#440154ff;stroke-width:2;\" /><line x1=\"45\" y1=\"15\" x2=\"45\" y2=\"27\" style=\"stroke:#440154ff;stroke-width:2;\" /><line x1=\"46\" y1=\"15\" x2=\"46\" y2=\"27\" style=\"stroke:#440154ff;stroke-width:2;\" /><line x1=\"47\" y1=\"15\" x2=\"47\" y2=\"27\" style=\"stroke:#440154ff;stroke-width:2;\" /><line x1=\"48\" y1=\"15\" x2=\"48\" y2=\"27\" style=\"stroke:#440154ff;stroke-width:2;\" /><line x1=\"49\" y1=\"15\" x2=\"49\" y2=\"27\" style=\"stroke:#440154ff;stroke-width:2;\" /><line x1=\"50\" y1=\"15\" x2=\"50\" y2=\"27\" style=\"stroke:#440154ff;stroke-width:2;\" /><line x1=\"51\" y1=\"15\" x2=\"51\" y2=\"27\" style=\"stroke:#440154ff;stroke-width:2;\" /><line x1=\"52\" y1=\"15\" x2=\"52\" y2=\"27\" style=\"stroke:#440154ff;stroke-width:2;\" /><line x1=\"53\" y1=\"15\" x2=\"53\" y2=\"27\" style=\"stroke:#440154ff;stroke-width:2;\" /><line x1=\"54\" y1=\"15\" x2=\"54\" y2=\"27\" style=\"stroke:#440154ff;stroke-width:2;\" /><line x1=\"55\" y1=\"15\" x2=\"55\" y2=\"27\" style=\"stroke:#440154ff;stroke-width:2;\" /><line x1=\"56\" y1=\"15\" x2=\"56\" y2=\"27\" style=\"stroke:#440154ff;stroke-width:2;\" /><line x1=\"57\" y1=\"15\" x2=\"57\" y2=\"27\" style=\"stroke:#440154ff;stroke-width:2;\" /><line x1=\"58\" y1=\"15\" x2=\"58\" y2=\"27\" style=\"stroke:#440154ff;stroke-width:2;\" /><line x1=\"59\" y1=\"15\" x2=\"59\" y2=\"27\" style=\"stroke:#440154ff;stroke-width:2;\" /><line x1=\"60\" y1=\"15\" x2=\"60\" y2=\"27\" style=\"stroke:#440154ff;stroke-width:2;\" /><line x1=\"61\" y1=\"15\" x2=\"61\" y2=\"27\" style=\"stroke:#440154ff;stroke-width:2;\" /><line x1=\"62\" y1=\"15\" x2=\"62\" y2=\"27\" style=\"stroke:#440154ff;stroke-width:2;\" /><line x1=\"63\" y1=\"15\" x2=\"63\" y2=\"27\" style=\"stroke:#440154ff;stroke-width:2;\" /><line x1=\"64\" y1=\"15\" x2=\"64\" y2=\"27\" style=\"stroke:#440154ff;stroke-width:2;\" /><line x1=\"65\" y1=\"15\" x2=\"65\" y2=\"27\" style=\"stroke:#440154ff;stroke-width:2;\" /><line x1=\"66\" y1=\"15\" x2=\"66\" y2=\"27\" style=\"stroke:#440154ff;stroke-width:2;\" /><line x1=\"67\" y1=\"15\" x2=\"67\" y2=\"27\" style=\"stroke:#440154ff;stroke-width:2;\" /><line x1=\"68\" y1=\"15\" x2=\"68\" y2=\"27\" style=\"stroke:#440154ff;stroke-width:2;\" /><line x1=\"69\" y1=\"15\" x2=\"69\" y2=\"27\" style=\"stroke:#440154ff;stroke-width:2;\" /><line x1=\"70\" y1=\"15\" x2=\"70\" y2=\"27\" style=\"stroke:#440154ff;stroke-width:2;\" /><line x1=\"71\" y1=\"15\" x2=\"71\" y2=\"27\" style=\"stroke:#440154ff;stroke-width:2;\" /><line x1=\"72\" y1=\"15\" x2=\"72\" y2=\"27\" style=\"stroke:#440154ff;stroke-width:2;\" /><line x1=\"73\" y1=\"15\" x2=\"73\" y2=\"27\" style=\"stroke:#440154ff;stroke-width:2;\" /><line x1=\"74\" y1=\"15\" x2=\"74\" y2=\"27\" style=\"stroke:#440154ff;stroke-width:2;\" /><line x1=\"75\" y1=\"15\" x2=\"75\" y2=\"27\" style=\"stroke:#440154ff;stroke-width:2;\" /><line x1=\"76\" y1=\"15\" x2=\"76\" y2=\"27\" style=\"stroke:#440154ff;stroke-width:2;\" /><line x1=\"77\" y1=\"15\" x2=\"77\" y2=\"27\" style=\"stroke:#440154ff;stroke-width:2;\" /><line x1=\"78\" y1=\"15\" x2=\"78\" y2=\"27\" style=\"stroke:#440154ff;stroke-width:2;\" /><line x1=\"79\" y1=\"15\" x2=\"79\" y2=\"27\" style=\"stroke:#440154ff;stroke-width:2;\" /><line x1=\"80\" y1=\"15\" x2=\"80\" y2=\"27\" style=\"stroke:#440154ff;stroke-width:2;\" /><line x1=\"81\" y1=\"15\" x2=\"81\" y2=\"27\" style=\"stroke:#440154ff;stroke-width:2;\" /><line x1=\"82\" y1=\"15\" x2=\"82\" y2=\"27\" style=\"stroke:#440154ff;stroke-width:2;\" /><line x1=\"83\" y1=\"15\" x2=\"83\" y2=\"27\" style=\"stroke:#440154ff;stroke-width:2;\" /><line x1=\"84\" y1=\"15\" x2=\"84\" y2=\"27\" style=\"stroke:#440154ff;stroke-width:2;\" /><line x1=\"85\" y1=\"15\" x2=\"85\" y2=\"27\" style=\"stroke:#440154ff;stroke-width:2;\" /><line x1=\"86\" y1=\"15\" x2=\"86\" y2=\"27\" style=\"stroke:#440154ff;stroke-width:2;\" /><line x1=\"87\" y1=\"15\" x2=\"87\" y2=\"27\" style=\"stroke:#440154ff;stroke-width:2;\" /><line x1=\"88\" y1=\"15\" x2=\"88\" y2=\"27\" style=\"stroke:#440154ff;stroke-width:2;\" /><line x1=\"89\" y1=\"15\" x2=\"89\" y2=\"27\" style=\"stroke:#440154ff;stroke-width:2;\" /><line x1=\"90\" y1=\"15\" x2=\"90\" y2=\"27\" style=\"stroke:#440154ff;stroke-width:2;\" /><line x1=\"91\" y1=\"15\" x2=\"91\" y2=\"27\" style=\"stroke:#440154ff;stroke-width:2;\" /><line x1=\"92\" y1=\"15\" x2=\"92\" y2=\"27\" style=\"stroke:#440154ff;stroke-width:2;\" /><line x1=\"93\" y1=\"15\" x2=\"93\" y2=\"27\" style=\"stroke:#440154ff;stroke-width:2;\" /><line x1=\"94\" y1=\"15\" x2=\"94\" y2=\"27\" style=\"stroke:#440154ff;stroke-width:2;\" /><line x1=\"95\" y1=\"15\" x2=\"95\" y2=\"27\" style=\"stroke:#440154ff;stroke-width:2;\" /><line x1=\"96\" y1=\"15\" x2=\"96\" y2=\"27\" style=\"stroke:#440154ff;stroke-width:2;\" /><line x1=\"97\" y1=\"15\" x2=\"97\" y2=\"27\" style=\"stroke:#440154ff;stroke-width:2;\" /><line x1=\"98\" y1=\"15\" x2=\"98\" y2=\"27\" style=\"stroke:#440154ff;stroke-width:2;\" /><line x1=\"99\" y1=\"15\" x2=\"99\" y2=\"27\" style=\"stroke:#440154ff;stroke-width:2;\" /><line x1=\"100\" y1=\"15\" x2=\"100\" y2=\"27\" style=\"stroke:#440154ff;stroke-width:2;\" /><line x1=\"101\" y1=\"15\" x2=\"101\" y2=\"27\" style=\"stroke:#440154ff;stroke-width:2;\" /><line x1=\"102\" y1=\"15\" x2=\"102\" y2=\"27\" style=\"stroke:#440154ff;stroke-width:2;\" /><line x1=\"103\" y1=\"15\" x2=\"103\" y2=\"27\" style=\"stroke:#440154ff;stroke-width:2;\" /><line x1=\"104\" y1=\"15\" x2=\"104\" y2=\"27\" style=\"stroke:#440154ff;stroke-width:2;\" /><line x1=\"105\" y1=\"15\" x2=\"105\" y2=\"27\" style=\"stroke:#440154ff;stroke-width:2;\" /><line x1=\"106\" y1=\"15\" x2=\"106\" y2=\"27\" style=\"stroke:#440154ff;stroke-width:2;\" /><line x1=\"107\" y1=\"15\" x2=\"107\" y2=\"27\" style=\"stroke:#440154ff;stroke-width:2;\" /><line x1=\"108\" y1=\"15\" x2=\"108\" y2=\"27\" style=\"stroke:#440154ff;stroke-width:2;\" /><line x1=\"109\" y1=\"15\" x2=\"109\" y2=\"27\" style=\"stroke:#440154ff;stroke-width:2;\" /><line x1=\"110\" y1=\"15\" x2=\"110\" y2=\"27\" style=\"stroke:#440154ff;stroke-width:2;\" /><line x1=\"111\" y1=\"15\" x2=\"111\" y2=\"27\" style=\"stroke:#440154ff;stroke-width:2;\" /><line x1=\"112\" y1=\"15\" x2=\"112\" y2=\"27\" style=\"stroke:#440154ff;stroke-width:2;\" /><line x1=\"113\" y1=\"15\" x2=\"113\" y2=\"27\" style=\"stroke:#31678dff;stroke-width:2;\" /><line x1=\"114\" y1=\"15\" x2=\"114\" y2=\"27\" style=\"stroke:#31678dff;stroke-width:2;\" /><line x1=\"115\" y1=\"15\" x2=\"115\" y2=\"27\" style=\"stroke:#31678dff;stroke-width:2;\" /><line x1=\"116\" y1=\"15\" x2=\"116\" y2=\"27\" style=\"stroke:#31678dff;stroke-width:2;\" /><line x1=\"117\" y1=\"15\" x2=\"117\" y2=\"27\" style=\"stroke:#31678dff;stroke-width:2;\" /><line x1=\"118\" y1=\"15\" x2=\"118\" y2=\"27\" style=\"stroke:#31678dff;stroke-width:2;\" /><line x1=\"119\" y1=\"15\" x2=\"119\" y2=\"27\" style=\"stroke:#31678dff;stroke-width:2;\" /><line x1=\"120\" y1=\"15\" x2=\"120\" y2=\"27\" style=\"stroke:#31678dff;stroke-width:2;\" /><line x1=\"121\" y1=\"15\" x2=\"121\" y2=\"27\" style=\"stroke:#31678dff;stroke-width:2;\" /><line x1=\"122\" y1=\"15\" x2=\"122\" y2=\"27\" style=\"stroke:#31678dff;stroke-width:2;\" /><line x1=\"123\" y1=\"15\" x2=\"123\" y2=\"27\" style=\"stroke:#31678dff;stroke-width:2;\" /><line x1=\"124\" y1=\"15\" x2=\"124\" y2=\"27\" style=\"stroke:#31678dff;stroke-width:2;\" /><line x1=\"125\" y1=\"15\" x2=\"125\" y2=\"27\" style=\"stroke:#31678dff;stroke-width:2;\" /><line x1=\"126\" y1=\"15\" x2=\"126\" y2=\"27\" style=\"stroke:#31678dff;stroke-width:2;\" /><line x1=\"127\" y1=\"15\" x2=\"127\" y2=\"27\" style=\"stroke:#31678dff;stroke-width:2;\" /><line x1=\"128\" y1=\"15\" x2=\"128\" y2=\"27\" style=\"stroke:#31678dff;stroke-width:2;\" /><line x1=\"129\" y1=\"15\" x2=\"129\" y2=\"27\" style=\"stroke:#31678dff;stroke-width:2;\" /><line x1=\"130\" y1=\"15\" x2=\"130\" y2=\"27\" style=\"stroke:#31678dff;stroke-width:2;\" /><line x1=\"131\" y1=\"15\" x2=\"131\" y2=\"27\" style=\"stroke:#31678dff;stroke-width:2;\" /><line x1=\"132\" y1=\"15\" x2=\"132\" y2=\"27\" style=\"stroke:#31678dff;stroke-width:2;\" /><line x1=\"133\" y1=\"15\" x2=\"133\" y2=\"27\" style=\"stroke:#31678dff;stroke-width:2;\" /><line x1=\"134\" y1=\"15\" x2=\"134\" y2=\"27\" style=\"stroke:#31678dff;stroke-width:2;\" /><line x1=\"135\" y1=\"15\" x2=\"135\" y2=\"27\" style=\"stroke:#31678dff;stroke-width:2;\" /><line x1=\"136\" y1=\"15\" x2=\"136\" y2=\"27\" style=\"stroke:#31678dff;stroke-width:2;\" /><line x1=\"137\" y1=\"15\" x2=\"137\" y2=\"27\" style=\"stroke:#31678dff;stroke-width:2;\" /><line x1=\"138\" y1=\"15\" x2=\"138\" y2=\"27\" style=\"stroke:#31678dff;stroke-width:2;\" /><line x1=\"139\" y1=\"15\" x2=\"139\" y2=\"27\" style=\"stroke:#31678dff;stroke-width:2;\" /><line x1=\"140\" y1=\"15\" x2=\"140\" y2=\"27\" style=\"stroke:#31678dff;stroke-width:2;\" /><line x1=\"141\" y1=\"15\" x2=\"141\" y2=\"27\" style=\"stroke:#31678dff;stroke-width:2;\" /><line x1=\"142\" y1=\"15\" x2=\"142\" y2=\"27\" style=\"stroke:#31678dff;stroke-width:2;\" /><line x1=\"143\" y1=\"15\" x2=\"143\" y2=\"27\" style=\"stroke:#31678dff;stroke-width:2;\" /><line x1=\"144\" y1=\"15\" x2=\"144\" y2=\"27\" style=\"stroke:#31678dff;stroke-width:2;\" /><line x1=\"145\" y1=\"15\" x2=\"145\" y2=\"27\" style=\"stroke:#31678dff;stroke-width:2;\" /><line x1=\"146\" y1=\"15\" x2=\"146\" y2=\"27\" style=\"stroke:#31678dff;stroke-width:2;\" /><line x1=\"147\" y1=\"15\" x2=\"147\" y2=\"27\" style=\"stroke:#31678dff;stroke-width:2;\" /><line x1=\"148\" y1=\"15\" x2=\"148\" y2=\"27\" style=\"stroke:#31678dff;stroke-width:2;\" /><line x1=\"149\" y1=\"15\" x2=\"149\" y2=\"27\" style=\"stroke:#31678dff;stroke-width:2;\" /><line x1=\"150\" y1=\"15\" x2=\"150\" y2=\"27\" style=\"stroke:#31678dff;stroke-width:2;\" /><line x1=\"151\" y1=\"15\" x2=\"151\" y2=\"27\" style=\"stroke:#31678dff;stroke-width:2;\" /><line x1=\"152\" y1=\"15\" x2=\"152\" y2=\"27\" style=\"stroke:#31678dff;stroke-width:2;\" /><line x1=\"153\" y1=\"15\" x2=\"153\" y2=\"27\" style=\"stroke:#31678dff;stroke-width:2;\" /><line x1=\"154\" y1=\"15\" x2=\"154\" y2=\"27\" style=\"stroke:#31678dff;stroke-width:2;\" /><line x1=\"155\" y1=\"15\" x2=\"155\" y2=\"27\" style=\"stroke:#31678dff;stroke-width:2;\" /><line x1=\"156\" y1=\"15\" x2=\"156\" y2=\"27\" style=\"stroke:#31678dff;stroke-width:2;\" /><line x1=\"157\" y1=\"15\" x2=\"157\" y2=\"27\" style=\"stroke:#31678dff;stroke-width:2;\" /><line x1=\"158\" y1=\"15\" x2=\"158\" y2=\"27\" style=\"stroke:#31678dff;stroke-width:2;\" /><line x1=\"159\" y1=\"15\" x2=\"159\" y2=\"27\" style=\"stroke:#31678dff;stroke-width:2;\" /><line x1=\"160\" y1=\"15\" x2=\"160\" y2=\"27\" style=\"stroke:#31678dff;stroke-width:2;\" /><line x1=\"161\" y1=\"15\" x2=\"161\" y2=\"27\" style=\"stroke:#31678dff;stroke-width:2;\" /><line x1=\"162\" y1=\"15\" x2=\"162\" y2=\"27\" style=\"stroke:#31678dff;stroke-width:2;\" /><line x1=\"163\" y1=\"15\" x2=\"163\" y2=\"27\" style=\"stroke:#31678dff;stroke-width:2;\" /><line x1=\"164\" y1=\"15\" x2=\"164\" y2=\"27\" style=\"stroke:#31678dff;stroke-width:2;\" /><line x1=\"165\" y1=\"15\" x2=\"165\" y2=\"27\" style=\"stroke:#31678dff;stroke-width:2;\" /><line x1=\"166\" y1=\"15\" x2=\"166\" y2=\"27\" style=\"stroke:#31678dff;stroke-width:2;\" /><line x1=\"167\" y1=\"15\" x2=\"167\" y2=\"27\" style=\"stroke:#31678dff;stroke-width:2;\" /><line x1=\"168\" y1=\"15\" x2=\"168\" y2=\"27\" style=\"stroke:#31678dff;stroke-width:2;\" /><line x1=\"169\" y1=\"15\" x2=\"169\" y2=\"27\" style=\"stroke:#31678dff;stroke-width:2;\" /><line x1=\"170\" y1=\"15\" x2=\"170\" y2=\"27\" style=\"stroke:#31678dff;stroke-width:2;\" /><line x1=\"171\" y1=\"15\" x2=\"171\" y2=\"27\" style=\"stroke:#31678dff;stroke-width:2;\" /><line x1=\"172\" y1=\"15\" x2=\"172\" y2=\"27\" style=\"stroke:#31678dff;stroke-width:2;\" /><line x1=\"173\" y1=\"15\" x2=\"173\" y2=\"27\" style=\"stroke:#31678dff;stroke-width:2;\" /><line x1=\"174\" y1=\"15\" x2=\"174\" y2=\"27\" style=\"stroke:#31678dff;stroke-width:2;\" /><line x1=\"175\" y1=\"15\" x2=\"175\" y2=\"27\" style=\"stroke:#31678dff;stroke-width:2;\" /><line x1=\"176\" y1=\"15\" x2=\"176\" y2=\"27\" style=\"stroke:#31678dff;stroke-width:2;\" /><line x1=\"177\" y1=\"15\" x2=\"177\" y2=\"27\" style=\"stroke:#31678dff;stroke-width:2;\" /><line x1=\"178\" y1=\"15\" x2=\"178\" y2=\"27\" style=\"stroke:#31678dff;stroke-width:2;\" /><line x1=\"179\" y1=\"15\" x2=\"179\" y2=\"27\" style=\"stroke:#31678dff;stroke-width:2;\" /><line x1=\"180\" y1=\"15\" x2=\"180\" y2=\"27\" style=\"stroke:#31678dff;stroke-width:2;\" /><line x1=\"181\" y1=\"15\" x2=\"181\" y2=\"27\" style=\"stroke:#31678dff;stroke-width:2;\" /><line x1=\"182\" y1=\"15\" x2=\"182\" y2=\"27\" style=\"stroke:#31678dff;stroke-width:2;\" /><line x1=\"183\" y1=\"15\" x2=\"183\" y2=\"27\" style=\"stroke:#31678dff;stroke-width:2;\" /><line x1=\"184\" y1=\"15\" x2=\"184\" y2=\"27\" style=\"stroke:#31678dff;stroke-width:2;\" /><line x1=\"185\" y1=\"15\" x2=\"185\" y2=\"27\" style=\"stroke:#31678dff;stroke-width:2;\" /><line x1=\"186\" y1=\"15\" x2=\"186\" y2=\"27\" style=\"stroke:#31678dff;stroke-width:2;\" /><line x1=\"187\" y1=\"15\" x2=\"187\" y2=\"27\" style=\"stroke:#31678dff;stroke-width:2;\" /><line x1=\"188\" y1=\"15\" x2=\"188\" y2=\"27\" style=\"stroke:#31678dff;stroke-width:2;\" /><line x1=\"189\" y1=\"15\" x2=\"189\" y2=\"27\" style=\"stroke:#31678dff;stroke-width:2;\" /><line x1=\"190\" y1=\"15\" x2=\"190\" y2=\"27\" style=\"stroke:#31678dff;stroke-width:2;\" /><line x1=\"191\" y1=\"15\" x2=\"191\" y2=\"27\" style=\"stroke:#31678dff;stroke-width:2;\" /><line x1=\"192\" y1=\"15\" x2=\"192\" y2=\"27\" style=\"stroke:#31678dff;stroke-width:2;\" /><line x1=\"193\" y1=\"15\" x2=\"193\" y2=\"27\" style=\"stroke:#31678dff;stroke-width:2;\" /><line x1=\"194\" y1=\"15\" x2=\"194\" y2=\"27\" style=\"stroke:#31678dff;stroke-width:2;\" /><line x1=\"195\" y1=\"15\" x2=\"195\" y2=\"27\" style=\"stroke:#31678dff;stroke-width:2;\" /><line x1=\"196\" y1=\"15\" x2=\"196\" y2=\"27\" style=\"stroke:#31678dff;stroke-width:2;\" /><line x1=\"197\" y1=\"15\" x2=\"197\" y2=\"27\" style=\"stroke:#31678dff;stroke-width:2;\" /><line x1=\"198\" y1=\"15\" x2=\"198\" y2=\"27\" style=\"stroke:#31678dff;stroke-width:2;\" /><line x1=\"199\" y1=\"15\" x2=\"199\" y2=\"27\" style=\"stroke:#31678dff;stroke-width:2;\" /><line x1=\"200\" y1=\"15\" x2=\"200\" y2=\"27\" style=\"stroke:#31678dff;stroke-width:2;\" /><line x1=\"201\" y1=\"15\" x2=\"201\" y2=\"27\" style=\"stroke:#31678dff;stroke-width:2;\" /><line x1=\"202\" y1=\"15\" x2=\"202\" y2=\"27\" style=\"stroke:#31678dff;stroke-width:2;\" /><line x1=\"203\" y1=\"15\" x2=\"203\" y2=\"27\" style=\"stroke:#31678dff;stroke-width:2;\" /><line x1=\"204\" y1=\"15\" x2=\"204\" y2=\"27\" style=\"stroke:#31678dff;stroke-width:2;\" /><line x1=\"205\" y1=\"15\" x2=\"205\" y2=\"27\" style=\"stroke:#31678dff;stroke-width:2;\" /><line x1=\"206\" y1=\"15\" x2=\"206\" y2=\"27\" style=\"stroke:#31678dff;stroke-width:2;\" /><line x1=\"207\" y1=\"15\" x2=\"207\" y2=\"27\" style=\"stroke:#31678dff;stroke-width:2;\" /><line x1=\"208\" y1=\"15\" x2=\"208\" y2=\"27\" style=\"stroke:#31678dff;stroke-width:2;\" /><line x1=\"209\" y1=\"15\" x2=\"209\" y2=\"27\" style=\"stroke:#31678dff;stroke-width:2;\" /><line x1=\"210\" y1=\"15\" x2=\"210\" y2=\"27\" style=\"stroke:#31678dff;stroke-width:2;\" /><line x1=\"211\" y1=\"15\" x2=\"211\" y2=\"27\" style=\"stroke:#31678dff;stroke-width:2;\" /><line x1=\"212\" y1=\"15\" x2=\"212\" y2=\"27\" style=\"stroke:#31678dff;stroke-width:2;\" /><line x1=\"213\" y1=\"15\" x2=\"213\" y2=\"27\" style=\"stroke:#31678dff;stroke-width:2;\" /><line x1=\"214\" y1=\"15\" x2=\"214\" y2=\"27\" style=\"stroke:#31678dff;stroke-width:2;\" /><line x1=\"215\" y1=\"15\" x2=\"215\" y2=\"27\" style=\"stroke:#31678dff;stroke-width:2;\" /><line x1=\"216\" y1=\"15\" x2=\"216\" y2=\"27\" style=\"stroke:#31678dff;stroke-width:2;\" /><line x1=\"217\" y1=\"15\" x2=\"217\" y2=\"27\" style=\"stroke:#31678dff;stroke-width:2;\" /><line x1=\"218\" y1=\"15\" x2=\"218\" y2=\"27\" style=\"stroke:#31678dff;stroke-width:2;\" /><line x1=\"219\" y1=\"15\" x2=\"219\" y2=\"27\" style=\"stroke:#31678dff;stroke-width:2;\" /><line x1=\"220\" y1=\"15\" x2=\"220\" y2=\"27\" style=\"stroke:#31678dff;stroke-width:2;\" /><line x1=\"221\" y1=\"15\" x2=\"221\" y2=\"27\" style=\"stroke:#31678dff;stroke-width:2;\" /><line x1=\"222\" y1=\"15\" x2=\"222\" y2=\"27\" style=\"stroke:#31678dff;stroke-width:2;\" /><line x1=\"223\" y1=\"15\" x2=\"223\" y2=\"27\" style=\"stroke:#31678dff;stroke-width:2;\" /><line x1=\"224\" y1=\"15\" x2=\"224\" y2=\"27\" style=\"stroke:#31678dff;stroke-width:2;\" /><line x1=\"225\" y1=\"15\" x2=\"225\" y2=\"27\" style=\"stroke:#35b778ff;stroke-width:2;\" /><line x1=\"226\" y1=\"15\" x2=\"226\" y2=\"27\" style=\"stroke:#35b778ff;stroke-width:2;\" /><line x1=\"227\" y1=\"15\" x2=\"227\" y2=\"27\" style=\"stroke:#35b778ff;stroke-width:2;\" /><line x1=\"228\" y1=\"15\" x2=\"228\" y2=\"27\" style=\"stroke:#35b778ff;stroke-width:2;\" /><line x1=\"229\" y1=\"15\" x2=\"229\" y2=\"27\" style=\"stroke:#35b778ff;stroke-width:2;\" /><line x1=\"230\" y1=\"15\" x2=\"230\" y2=\"27\" style=\"stroke:#35b778ff;stroke-width:2;\" /><line x1=\"231\" y1=\"15\" x2=\"231\" y2=\"27\" style=\"stroke:#35b778ff;stroke-width:2;\" /><line x1=\"232\" y1=\"15\" x2=\"232\" y2=\"27\" style=\"stroke:#35b778ff;stroke-width:2;\" /><line x1=\"233\" y1=\"15\" x2=\"233\" y2=\"27\" style=\"stroke:#35b778ff;stroke-width:2;\" /><line x1=\"234\" y1=\"15\" x2=\"234\" y2=\"27\" style=\"stroke:#35b778ff;stroke-width:2;\" /><line x1=\"235\" y1=\"15\" x2=\"235\" y2=\"27\" style=\"stroke:#35b778ff;stroke-width:2;\" /><line x1=\"236\" y1=\"15\" x2=\"236\" y2=\"27\" style=\"stroke:#35b778ff;stroke-width:2;\" /><line x1=\"237\" y1=\"15\" x2=\"237\" y2=\"27\" style=\"stroke:#35b778ff;stroke-width:2;\" /><line x1=\"238\" y1=\"15\" x2=\"238\" y2=\"27\" style=\"stroke:#35b778ff;stroke-width:2;\" /><line x1=\"239\" y1=\"15\" x2=\"239\" y2=\"27\" style=\"stroke:#35b778ff;stroke-width:2;\" /><line x1=\"240\" y1=\"15\" x2=\"240\" y2=\"27\" style=\"stroke:#35b778ff;stroke-width:2;\" /><line x1=\"241\" y1=\"15\" x2=\"241\" y2=\"27\" style=\"stroke:#35b778ff;stroke-width:2;\" /><line x1=\"242\" y1=\"15\" x2=\"242\" y2=\"27\" style=\"stroke:#35b778ff;stroke-width:2;\" /><line x1=\"243\" y1=\"15\" x2=\"243\" y2=\"27\" style=\"stroke:#35b778ff;stroke-width:2;\" /><line x1=\"244\" y1=\"15\" x2=\"244\" y2=\"27\" style=\"stroke:#35b778ff;stroke-width:2;\" /><line x1=\"245\" y1=\"15\" x2=\"245\" y2=\"27\" style=\"stroke:#35b778ff;stroke-width:2;\" /><line x1=\"246\" y1=\"15\" x2=\"246\" y2=\"27\" style=\"stroke:#35b778ff;stroke-width:2;\" /><line x1=\"247\" y1=\"15\" x2=\"247\" y2=\"27\" style=\"stroke:#35b778ff;stroke-width:2;\" /><line x1=\"248\" y1=\"15\" x2=\"248\" y2=\"27\" style=\"stroke:#35b778ff;stroke-width:2;\" /><line x1=\"249\" y1=\"15\" x2=\"249\" y2=\"27\" style=\"stroke:#35b778ff;stroke-width:2;\" /><line x1=\"250\" y1=\"15\" x2=\"250\" y2=\"27\" style=\"stroke:#35b778ff;stroke-width:2;\" /><line x1=\"251\" y1=\"15\" x2=\"251\" y2=\"27\" style=\"stroke:#35b778ff;stroke-width:2;\" /><line x1=\"252\" y1=\"15\" x2=\"252\" y2=\"27\" style=\"stroke:#35b778ff;stroke-width:2;\" /><line x1=\"253\" y1=\"15\" x2=\"253\" y2=\"27\" style=\"stroke:#35b778ff;stroke-width:2;\" /><line x1=\"254\" y1=\"15\" x2=\"254\" y2=\"27\" style=\"stroke:#35b778ff;stroke-width:2;\" /><line x1=\"255\" y1=\"15\" x2=\"255\" y2=\"27\" style=\"stroke:#35b778ff;stroke-width:2;\" /><line x1=\"256\" y1=\"15\" x2=\"256\" y2=\"27\" style=\"stroke:#35b778ff;stroke-width:2;\" /><line x1=\"257\" y1=\"15\" x2=\"257\" y2=\"27\" style=\"stroke:#35b778ff;stroke-width:2;\" /><line x1=\"258\" y1=\"15\" x2=\"258\" y2=\"27\" style=\"stroke:#35b778ff;stroke-width:2;\" /><line x1=\"259\" y1=\"15\" x2=\"259\" y2=\"27\" style=\"stroke:#35b778ff;stroke-width:2;\" /><line x1=\"260\" y1=\"15\" x2=\"260\" y2=\"27\" style=\"stroke:#35b778ff;stroke-width:2;\" /><line x1=\"261\" y1=\"15\" x2=\"261\" y2=\"27\" style=\"stroke:#35b778ff;stroke-width:2;\" /><line x1=\"262\" y1=\"15\" x2=\"262\" y2=\"27\" style=\"stroke:#35b778ff;stroke-width:2;\" /><line x1=\"263\" y1=\"15\" x2=\"263\" y2=\"27\" style=\"stroke:#35b778ff;stroke-width:2;\" /><line x1=\"264\" y1=\"15\" x2=\"264\" y2=\"27\" style=\"stroke:#35b778ff;stroke-width:2;\" /><line x1=\"265\" y1=\"15\" x2=\"265\" y2=\"27\" style=\"stroke:#35b778ff;stroke-width:2;\" /><line x1=\"266\" y1=\"15\" x2=\"266\" y2=\"27\" style=\"stroke:#35b778ff;stroke-width:2;\" /><line x1=\"267\" y1=\"15\" x2=\"267\" y2=\"27\" style=\"stroke:#35b778ff;stroke-width:2;\" /><line x1=\"268\" y1=\"15\" x2=\"268\" y2=\"27\" style=\"stroke:#35b778ff;stroke-width:2;\" /><line x1=\"269\" y1=\"15\" x2=\"269\" y2=\"27\" style=\"stroke:#35b778ff;stroke-width:2;\" /><line x1=\"270\" y1=\"15\" x2=\"270\" y2=\"27\" style=\"stroke:#35b778ff;stroke-width:2;\" /><line x1=\"271\" y1=\"15\" x2=\"271\" y2=\"27\" style=\"stroke:#35b778ff;stroke-width:2;\" /><line x1=\"272\" y1=\"15\" x2=\"272\" y2=\"27\" style=\"stroke:#35b778ff;stroke-width:2;\" /><line x1=\"273\" y1=\"15\" x2=\"273\" y2=\"27\" style=\"stroke:#35b778ff;stroke-width:2;\" /><line x1=\"274\" y1=\"15\" x2=\"274\" y2=\"27\" style=\"stroke:#35b778ff;stroke-width:2;\" /><line x1=\"275\" y1=\"15\" x2=\"275\" y2=\"27\" style=\"stroke:#35b778ff;stroke-width:2;\" /><line x1=\"276\" y1=\"15\" x2=\"276\" y2=\"27\" style=\"stroke:#35b778ff;stroke-width:2;\" /><line x1=\"277\" y1=\"15\" x2=\"277\" y2=\"27\" style=\"stroke:#35b778ff;stroke-width:2;\" /><line x1=\"278\" y1=\"15\" x2=\"278\" y2=\"27\" style=\"stroke:#35b778ff;stroke-width:2;\" /><line x1=\"279\" y1=\"15\" x2=\"279\" y2=\"27\" style=\"stroke:#35b778ff;stroke-width:2;\" /><line x1=\"280\" y1=\"15\" x2=\"280\" y2=\"27\" style=\"stroke:#35b778ff;stroke-width:2;\" /><line x1=\"281\" y1=\"15\" x2=\"281\" y2=\"27\" style=\"stroke:#35b778ff;stroke-width:2;\" /><line x1=\"282\" y1=\"15\" x2=\"282\" y2=\"27\" style=\"stroke:#35b778ff;stroke-width:2;\" /><line x1=\"283\" y1=\"15\" x2=\"283\" y2=\"27\" style=\"stroke:#35b778ff;stroke-width:2;\" /><line x1=\"284\" y1=\"15\" x2=\"284\" y2=\"27\" style=\"stroke:#35b778ff;stroke-width:2;\" /><line x1=\"285\" y1=\"15\" x2=\"285\" y2=\"27\" style=\"stroke:#35b778ff;stroke-width:2;\" /><line x1=\"286\" y1=\"15\" x2=\"286\" y2=\"27\" style=\"stroke:#35b778ff;stroke-width:2;\" /><line x1=\"287\" y1=\"15\" x2=\"287\" y2=\"27\" style=\"stroke:#35b778ff;stroke-width:2;\" /><line x1=\"288\" y1=\"15\" x2=\"288\" y2=\"27\" style=\"stroke:#35b778ff;stroke-width:2;\" /><line x1=\"289\" y1=\"15\" x2=\"289\" y2=\"27\" style=\"stroke:#35b778ff;stroke-width:2;\" /><line x1=\"290\" y1=\"15\" x2=\"290\" y2=\"27\" style=\"stroke:#35b778ff;stroke-width:2;\" /><line x1=\"291\" y1=\"15\" x2=\"291\" y2=\"27\" style=\"stroke:#35b778ff;stroke-width:2;\" /><line x1=\"292\" y1=\"15\" x2=\"292\" y2=\"27\" style=\"stroke:#35b778ff;stroke-width:2;\" /><line x1=\"293\" y1=\"15\" x2=\"293\" y2=\"27\" style=\"stroke:#35b778ff;stroke-width:2;\" /><line x1=\"294\" y1=\"15\" x2=\"294\" y2=\"27\" style=\"stroke:#35b778ff;stroke-width:2;\" /><line x1=\"295\" y1=\"15\" x2=\"295\" y2=\"27\" style=\"stroke:#35b778ff;stroke-width:2;\" /><line x1=\"296\" y1=\"15\" x2=\"296\" y2=\"27\" style=\"stroke:#35b778ff;stroke-width:2;\" /><line x1=\"297\" y1=\"15\" x2=\"297\" y2=\"27\" style=\"stroke:#35b778ff;stroke-width:2;\" /><line x1=\"298\" y1=\"15\" x2=\"298\" y2=\"27\" style=\"stroke:#35b778ff;stroke-width:2;\" /><line x1=\"299\" y1=\"15\" x2=\"299\" y2=\"27\" style=\"stroke:#35b778ff;stroke-width:2;\" /><line x1=\"300\" y1=\"15\" x2=\"300\" y2=\"27\" style=\"stroke:#35b778ff;stroke-width:2;\" /><line x1=\"301\" y1=\"15\" x2=\"301\" y2=\"27\" style=\"stroke:#35b778ff;stroke-width:2;\" /><line x1=\"302\" y1=\"15\" x2=\"302\" y2=\"27\" style=\"stroke:#35b778ff;stroke-width:2;\" /><line x1=\"303\" y1=\"15\" x2=\"303\" y2=\"27\" style=\"stroke:#35b778ff;stroke-width:2;\" /><line x1=\"304\" y1=\"15\" x2=\"304\" y2=\"27\" style=\"stroke:#35b778ff;stroke-width:2;\" /><line x1=\"305\" y1=\"15\" x2=\"305\" y2=\"27\" style=\"stroke:#35b778ff;stroke-width:2;\" /><line x1=\"306\" y1=\"15\" x2=\"306\" y2=\"27\" style=\"stroke:#35b778ff;stroke-width:2;\" /><line x1=\"307\" y1=\"15\" x2=\"307\" y2=\"27\" style=\"stroke:#35b778ff;stroke-width:2;\" /><line x1=\"308\" y1=\"15\" x2=\"308\" y2=\"27\" style=\"stroke:#35b778ff;stroke-width:2;\" /><line x1=\"309\" y1=\"15\" x2=\"309\" y2=\"27\" style=\"stroke:#35b778ff;stroke-width:2;\" /><line x1=\"310\" y1=\"15\" x2=\"310\" y2=\"27\" style=\"stroke:#35b778ff;stroke-width:2;\" /><line x1=\"311\" y1=\"15\" x2=\"311\" y2=\"27\" style=\"stroke:#35b778ff;stroke-width:2;\" /><line x1=\"312\" y1=\"15\" x2=\"312\" y2=\"27\" style=\"stroke:#35b778ff;stroke-width:2;\" /><line x1=\"313\" y1=\"15\" x2=\"313\" y2=\"27\" style=\"stroke:#35b778ff;stroke-width:2;\" /><line x1=\"314\" y1=\"15\" x2=\"314\" y2=\"27\" style=\"stroke:#35b778ff;stroke-width:2;\" /><line x1=\"315\" y1=\"15\" x2=\"315\" y2=\"27\" style=\"stroke:#35b778ff;stroke-width:2;\" /><line x1=\"316\" y1=\"15\" x2=\"316\" y2=\"27\" style=\"stroke:#35b778ff;stroke-width:2;\" /><line x1=\"317\" y1=\"15\" x2=\"317\" y2=\"27\" style=\"stroke:#35b778ff;stroke-width:2;\" /><line x1=\"318\" y1=\"15\" x2=\"318\" y2=\"27\" style=\"stroke:#35b778ff;stroke-width:2;\" /><line x1=\"319\" y1=\"15\" x2=\"319\" y2=\"27\" style=\"stroke:#35b778ff;stroke-width:2;\" /><line x1=\"320\" y1=\"15\" x2=\"320\" y2=\"27\" style=\"stroke:#35b778ff;stroke-width:2;\" /><line x1=\"321\" y1=\"15\" x2=\"321\" y2=\"27\" style=\"stroke:#35b778ff;stroke-width:2;\" /><line x1=\"322\" y1=\"15\" x2=\"322\" y2=\"27\" style=\"stroke:#35b778ff;stroke-width:2;\" /><line x1=\"323\" y1=\"15\" x2=\"323\" y2=\"27\" style=\"stroke:#35b778ff;stroke-width:2;\" /><line x1=\"324\" y1=\"15\" x2=\"324\" y2=\"27\" style=\"stroke:#35b778ff;stroke-width:2;\" /><line x1=\"325\" y1=\"15\" x2=\"325\" y2=\"27\" style=\"stroke:#35b778ff;stroke-width:2;\" /><line x1=\"326\" y1=\"15\" x2=\"326\" y2=\"27\" style=\"stroke:#35b778ff;stroke-width:2;\" /><line x1=\"327\" y1=\"15\" x2=\"327\" y2=\"27\" style=\"stroke:#35b778ff;stroke-width:2;\" /><line x1=\"328\" y1=\"15\" x2=\"328\" y2=\"27\" style=\"stroke:#35b778ff;stroke-width:2;\" /><line x1=\"329\" y1=\"15\" x2=\"329\" y2=\"27\" style=\"stroke:#35b778ff;stroke-width:2;\" /><line x1=\"330\" y1=\"15\" x2=\"330\" y2=\"27\" style=\"stroke:#35b778ff;stroke-width:2;\" /><line x1=\"331\" y1=\"15\" x2=\"331\" y2=\"27\" style=\"stroke:#35b778ff;stroke-width:2;\" /><line x1=\"332\" y1=\"15\" x2=\"332\" y2=\"27\" style=\"stroke:#35b778ff;stroke-width:2;\" /><line x1=\"333\" y1=\"15\" x2=\"333\" y2=\"27\" style=\"stroke:#35b778ff;stroke-width:2;\" /><line x1=\"334\" y1=\"15\" x2=\"334\" y2=\"27\" style=\"stroke:#35b778ff;stroke-width:2;\" /><line x1=\"335\" y1=\"15\" x2=\"335\" y2=\"27\" style=\"stroke:#35b778ff;stroke-width:2;\" /><line x1=\"336\" y1=\"15\" x2=\"336\" y2=\"27\" style=\"stroke:#35b778ff;stroke-width:2;\" /><line x1=\"337\" y1=\"15\" x2=\"337\" y2=\"27\" style=\"stroke:#fde725ff;stroke-width:2;\" /><line x1=\"338\" y1=\"15\" x2=\"338\" y2=\"27\" style=\"stroke:#fde725ff;stroke-width:2;\" /><line x1=\"339\" y1=\"15\" x2=\"339\" y2=\"27\" style=\"stroke:#fde725ff;stroke-width:2;\" /><line x1=\"340\" y1=\"15\" x2=\"340\" y2=\"27\" style=\"stroke:#fde725ff;stroke-width:2;\" /><line x1=\"341\" y1=\"15\" x2=\"341\" y2=\"27\" style=\"stroke:#fde725ff;stroke-width:2;\" /><line x1=\"342\" y1=\"15\" x2=\"342\" y2=\"27\" style=\"stroke:#fde725ff;stroke-width:2;\" /><line x1=\"343\" y1=\"15\" x2=\"343\" y2=\"27\" style=\"stroke:#fde725ff;stroke-width:2;\" /><line x1=\"344\" y1=\"15\" x2=\"344\" y2=\"27\" style=\"stroke:#fde725ff;stroke-width:2;\" /><line x1=\"345\" y1=\"15\" x2=\"345\" y2=\"27\" style=\"stroke:#fde725ff;stroke-width:2;\" /><line x1=\"346\" y1=\"15\" x2=\"346\" y2=\"27\" style=\"stroke:#fde725ff;stroke-width:2;\" /><line x1=\"347\" y1=\"15\" x2=\"347\" y2=\"27\" style=\"stroke:#fde725ff;stroke-width:2;\" /><line x1=\"348\" y1=\"15\" x2=\"348\" y2=\"27\" style=\"stroke:#fde725ff;stroke-width:2;\" /><line x1=\"349\" y1=\"15\" x2=\"349\" y2=\"27\" style=\"stroke:#fde725ff;stroke-width:2;\" /><line x1=\"350\" y1=\"15\" x2=\"350\" y2=\"27\" style=\"stroke:#fde725ff;stroke-width:2;\" /><line x1=\"351\" y1=\"15\" x2=\"351\" y2=\"27\" style=\"stroke:#fde725ff;stroke-width:2;\" /><line x1=\"352\" y1=\"15\" x2=\"352\" y2=\"27\" style=\"stroke:#fde725ff;stroke-width:2;\" /><line x1=\"353\" y1=\"15\" x2=\"353\" y2=\"27\" style=\"stroke:#fde725ff;stroke-width:2;\" /><line x1=\"354\" y1=\"15\" x2=\"354\" y2=\"27\" style=\"stroke:#fde725ff;stroke-width:2;\" /><line x1=\"355\" y1=\"15\" x2=\"355\" y2=\"27\" style=\"stroke:#fde725ff;stroke-width:2;\" /><line x1=\"356\" y1=\"15\" x2=\"356\" y2=\"27\" style=\"stroke:#fde725ff;stroke-width:2;\" /><line x1=\"357\" y1=\"15\" x2=\"357\" y2=\"27\" style=\"stroke:#fde725ff;stroke-width:2;\" /><line x1=\"358\" y1=\"15\" x2=\"358\" y2=\"27\" style=\"stroke:#fde725ff;stroke-width:2;\" /><line x1=\"359\" y1=\"15\" x2=\"359\" y2=\"27\" style=\"stroke:#fde725ff;stroke-width:2;\" /><line x1=\"360\" y1=\"15\" x2=\"360\" y2=\"27\" style=\"stroke:#fde725ff;stroke-width:2;\" /><line x1=\"361\" y1=\"15\" x2=\"361\" y2=\"27\" style=\"stroke:#fde725ff;stroke-width:2;\" /><line x1=\"362\" y1=\"15\" x2=\"362\" y2=\"27\" style=\"stroke:#fde725ff;stroke-width:2;\" /><line x1=\"363\" y1=\"15\" x2=\"363\" y2=\"27\" style=\"stroke:#fde725ff;stroke-width:2;\" /><line x1=\"364\" y1=\"15\" x2=\"364\" y2=\"27\" style=\"stroke:#fde725ff;stroke-width:2;\" /><line x1=\"365\" y1=\"15\" x2=\"365\" y2=\"27\" style=\"stroke:#fde725ff;stroke-width:2;\" /><line x1=\"366\" y1=\"15\" x2=\"366\" y2=\"27\" style=\"stroke:#fde725ff;stroke-width:2;\" /><line x1=\"367\" y1=\"15\" x2=\"367\" y2=\"27\" style=\"stroke:#fde725ff;stroke-width:2;\" /><line x1=\"368\" y1=\"15\" x2=\"368\" y2=\"27\" style=\"stroke:#fde725ff;stroke-width:2;\" /><line x1=\"369\" y1=\"15\" x2=\"369\" y2=\"27\" style=\"stroke:#fde725ff;stroke-width:2;\" /><line x1=\"370\" y1=\"15\" x2=\"370\" y2=\"27\" style=\"stroke:#fde725ff;stroke-width:2;\" /><line x1=\"371\" y1=\"15\" x2=\"371\" y2=\"27\" style=\"stroke:#fde725ff;stroke-width:2;\" /><line x1=\"372\" y1=\"15\" x2=\"372\" y2=\"27\" style=\"stroke:#fde725ff;stroke-width:2;\" /><line x1=\"373\" y1=\"15\" x2=\"373\" y2=\"27\" style=\"stroke:#fde725ff;stroke-width:2;\" /><line x1=\"374\" y1=\"15\" x2=\"374\" y2=\"27\" style=\"stroke:#fde725ff;stroke-width:2;\" /><line x1=\"375\" y1=\"15\" x2=\"375\" y2=\"27\" style=\"stroke:#fde725ff;stroke-width:2;\" /><line x1=\"376\" y1=\"15\" x2=\"376\" y2=\"27\" style=\"stroke:#fde725ff;stroke-width:2;\" /><line x1=\"377\" y1=\"15\" x2=\"377\" y2=\"27\" style=\"stroke:#fde725ff;stroke-width:2;\" /><line x1=\"378\" y1=\"15\" x2=\"378\" y2=\"27\" style=\"stroke:#fde725ff;stroke-width:2;\" /><line x1=\"379\" y1=\"15\" x2=\"379\" y2=\"27\" style=\"stroke:#fde725ff;stroke-width:2;\" /><line x1=\"380\" y1=\"15\" x2=\"380\" y2=\"27\" style=\"stroke:#fde725ff;stroke-width:2;\" /><line x1=\"381\" y1=\"15\" x2=\"381\" y2=\"27\" style=\"stroke:#fde725ff;stroke-width:2;\" /><line x1=\"382\" y1=\"15\" x2=\"382\" y2=\"27\" style=\"stroke:#fde725ff;stroke-width:2;\" /><line x1=\"383\" y1=\"15\" x2=\"383\" y2=\"27\" style=\"stroke:#fde725ff;stroke-width:2;\" /><line x1=\"384\" y1=\"15\" x2=\"384\" y2=\"27\" style=\"stroke:#fde725ff;stroke-width:2;\" /><line x1=\"385\" y1=\"15\" x2=\"385\" y2=\"27\" style=\"stroke:#fde725ff;stroke-width:2;\" /><line x1=\"386\" y1=\"15\" x2=\"386\" y2=\"27\" style=\"stroke:#fde725ff;stroke-width:2;\" /><line x1=\"387\" y1=\"15\" x2=\"387\" y2=\"27\" style=\"stroke:#fde725ff;stroke-width:2;\" /><line x1=\"388\" y1=\"15\" x2=\"388\" y2=\"27\" style=\"stroke:#fde725ff;stroke-width:2;\" /><line x1=\"389\" y1=\"15\" x2=\"389\" y2=\"27\" style=\"stroke:#fde725ff;stroke-width:2;\" /><line x1=\"390\" y1=\"15\" x2=\"390\" y2=\"27\" style=\"stroke:#fde725ff;stroke-width:2;\" /><line x1=\"391\" y1=\"15\" x2=\"391\" y2=\"27\" style=\"stroke:#fde725ff;stroke-width:2;\" /><line x1=\"392\" y1=\"15\" x2=\"392\" y2=\"27\" style=\"stroke:#fde725ff;stroke-width:2;\" /><line x1=\"393\" y1=\"15\" x2=\"393\" y2=\"27\" style=\"stroke:#fde725ff;stroke-width:2;\" /><line x1=\"394\" y1=\"15\" x2=\"394\" y2=\"27\" style=\"stroke:#fde725ff;stroke-width:2;\" /><line x1=\"395\" y1=\"15\" x2=\"395\" y2=\"27\" style=\"stroke:#fde725ff;stroke-width:2;\" /><line x1=\"396\" y1=\"15\" x2=\"396\" y2=\"27\" style=\"stroke:#fde725ff;stroke-width:2;\" /><line x1=\"397\" y1=\"15\" x2=\"397\" y2=\"27\" style=\"stroke:#fde725ff;stroke-width:2;\" /><line x1=\"398\" y1=\"15\" x2=\"398\" y2=\"27\" style=\"stroke:#fde725ff;stroke-width:2;\" /><line x1=\"399\" y1=\"15\" x2=\"399\" y2=\"27\" style=\"stroke:#fde725ff;stroke-width:2;\" /><line x1=\"400\" y1=\"15\" x2=\"400\" y2=\"27\" style=\"stroke:#fde725ff;stroke-width:2;\" /><line x1=\"401\" y1=\"15\" x2=\"401\" y2=\"27\" style=\"stroke:#fde725ff;stroke-width:2;\" /><line x1=\"402\" y1=\"15\" x2=\"402\" y2=\"27\" style=\"stroke:#fde725ff;stroke-width:2;\" /><line x1=\"403\" y1=\"15\" x2=\"403\" y2=\"27\" style=\"stroke:#fde725ff;stroke-width:2;\" /><line x1=\"404\" y1=\"15\" x2=\"404\" y2=\"27\" style=\"stroke:#fde725ff;stroke-width:2;\" /><line x1=\"405\" y1=\"15\" x2=\"405\" y2=\"27\" style=\"stroke:#fde725ff;stroke-width:2;\" /><line x1=\"406\" y1=\"15\" x2=\"406\" y2=\"27\" style=\"stroke:#fde725ff;stroke-width:2;\" /><line x1=\"407\" y1=\"15\" x2=\"407\" y2=\"27\" style=\"stroke:#fde725ff;stroke-width:2;\" /><line x1=\"408\" y1=\"15\" x2=\"408\" y2=\"27\" style=\"stroke:#fde725ff;stroke-width:2;\" /><line x1=\"409\" y1=\"15\" x2=\"409\" y2=\"27\" style=\"stroke:#fde725ff;stroke-width:2;\" /><line x1=\"410\" y1=\"15\" x2=\"410\" y2=\"27\" style=\"stroke:#fde725ff;stroke-width:2;\" /><line x1=\"411\" y1=\"15\" x2=\"411\" y2=\"27\" style=\"stroke:#fde725ff;stroke-width:2;\" /><line x1=\"412\" y1=\"15\" x2=\"412\" y2=\"27\" style=\"stroke:#fde725ff;stroke-width:2;\" /><line x1=\"413\" y1=\"15\" x2=\"413\" y2=\"27\" style=\"stroke:#fde725ff;stroke-width:2;\" /><line x1=\"414\" y1=\"15\" x2=\"414\" y2=\"27\" style=\"stroke:#fde725ff;stroke-width:2;\" /><line x1=\"415\" y1=\"15\" x2=\"415\" y2=\"27\" style=\"stroke:#fde725ff;stroke-width:2;\" /><line x1=\"416\" y1=\"15\" x2=\"416\" y2=\"27\" style=\"stroke:#fde725ff;stroke-width:2;\" /><line x1=\"417\" y1=\"15\" x2=\"417\" y2=\"27\" style=\"stroke:#fde725ff;stroke-width:2;\" /><line x1=\"418\" y1=\"15\" x2=\"418\" y2=\"27\" style=\"stroke:#fde725ff;stroke-width:2;\" /><line x1=\"419\" y1=\"15\" x2=\"419\" y2=\"27\" style=\"stroke:#fde725ff;stroke-width:2;\" /><line x1=\"420\" y1=\"15\" x2=\"420\" y2=\"27\" style=\"stroke:#fde725ff;stroke-width:2;\" /><line x1=\"421\" y1=\"15\" x2=\"421\" y2=\"27\" style=\"stroke:#fde725ff;stroke-width:2;\" /><line x1=\"422\" y1=\"15\" x2=\"422\" y2=\"27\" style=\"stroke:#fde725ff;stroke-width:2;\" /><line x1=\"423\" y1=\"15\" x2=\"423\" y2=\"27\" style=\"stroke:#fde725ff;stroke-width:2;\" /><line x1=\"424\" y1=\"15\" x2=\"424\" y2=\"27\" style=\"stroke:#fde725ff;stroke-width:2;\" /><line x1=\"425\" y1=\"15\" x2=\"425\" y2=\"27\" style=\"stroke:#fde725ff;stroke-width:2;\" /><line x1=\"426\" y1=\"15\" x2=\"426\" y2=\"27\" style=\"stroke:#fde725ff;stroke-width:2;\" /><line x1=\"427\" y1=\"15\" x2=\"427\" y2=\"27\" style=\"stroke:#fde725ff;stroke-width:2;\" /><line x1=\"428\" y1=\"15\" x2=\"428\" y2=\"27\" style=\"stroke:#fde725ff;stroke-width:2;\" /><line x1=\"429\" y1=\"15\" x2=\"429\" y2=\"27\" style=\"stroke:#fde725ff;stroke-width:2;\" /><line x1=\"430\" y1=\"15\" x2=\"430\" y2=\"27\" style=\"stroke:#fde725ff;stroke-width:2;\" /><line x1=\"431\" y1=\"15\" x2=\"431\" y2=\"27\" style=\"stroke:#fde725ff;stroke-width:2;\" /><line x1=\"432\" y1=\"15\" x2=\"432\" y2=\"27\" style=\"stroke:#fde725ff;stroke-width:2;\" /><line x1=\"433\" y1=\"15\" x2=\"433\" y2=\"27\" style=\"stroke:#fde725ff;stroke-width:2;\" /><line x1=\"434\" y1=\"15\" x2=\"434\" y2=\"27\" style=\"stroke:#fde725ff;stroke-width:2;\" /><line x1=\"435\" y1=\"15\" x2=\"435\" y2=\"27\" style=\"stroke:#fde725ff;stroke-width:2;\" /><line x1=\"436\" y1=\"15\" x2=\"436\" y2=\"27\" style=\"stroke:#fde725ff;stroke-width:2;\" /><line x1=\"437\" y1=\"15\" x2=\"437\" y2=\"27\" style=\"stroke:#fde725ff;stroke-width:2;\" /><line x1=\"438\" y1=\"15\" x2=\"438\" y2=\"27\" style=\"stroke:#fde725ff;stroke-width:2;\" /><line x1=\"439\" y1=\"15\" x2=\"439\" y2=\"27\" style=\"stroke:#fde725ff;stroke-width:2;\" /><line x1=\"440\" y1=\"15\" x2=\"440\" y2=\"27\" style=\"stroke:#fde725ff;stroke-width:2;\" /><line x1=\"441\" y1=\"15\" x2=\"441\" y2=\"27\" style=\"stroke:#fde725ff;stroke-width:2;\" /><line x1=\"442\" y1=\"15\" x2=\"442\" y2=\"27\" style=\"stroke:#fde725ff;stroke-width:2;\" /><line x1=\"443\" y1=\"15\" x2=\"443\" y2=\"27\" style=\"stroke:#fde725ff;stroke-width:2;\" /><line x1=\"444\" y1=\"15\" x2=\"444\" y2=\"27\" style=\"stroke:#fde725ff;stroke-width:2;\" /><line x1=\"445\" y1=\"15\" x2=\"445\" y2=\"27\" style=\"stroke:#fde725ff;stroke-width:2;\" /><line x1=\"446\" y1=\"15\" x2=\"446\" y2=\"27\" style=\"stroke:#fde725ff;stroke-width:2;\" /><line x1=\"447\" y1=\"15\" x2=\"447\" y2=\"27\" style=\"stroke:#fde725ff;stroke-width:2;\" /><line x1=\"448\" y1=\"15\" x2=\"448\" y2=\"27\" style=\"stroke:#fde725ff;stroke-width:2;\" /><line x1=\"449\" y1=\"15\" x2=\"449\" y2=\"27\" style=\"stroke:#fde725ff;stroke-width:2;\" /><text x=\"0\" y=\"38\" style=\"text-anchor:start; font-size:11px; font:Arial\">0.0</text><text x=\"75\" y=\"38\"; style=\"text-anchor:middle; font-size:11px; font:Arial\">333.3</text><text x=\"150\" y=\"38\"; style=\"text-anchor:middle; font-size:11px; font:Arial\">666.7</text><text x=\"225\" y=\"38\"; style=\"text-anchor:middle; font-size:11px; font:Arial\">1000.0</text><text x=\"300\" y=\"38\"; style=\"text-anchor:middle; font-size:11px; font:Arial\">1333.3</text><text x=\"375\" y=\"38\"; style=\"text-anchor:middle; font-size:11px; font:Arial\">1666.7</text><text x=\"450\" y=\"38\" style=\"text-anchor:end; font-size:11px; font:Arial\">2000.0</text><text x=\"0\" y=\"12\" style=\"font-size:11px; font:Arial\">my color scale</text></svg>"
      ],
      "text/plain": [
       "<branca.colormap.StepColormap at 0x7f8167278d30>"
      ]
     },
     "execution_count": 1,
     "metadata": {},
     "output_type": "execute_result"
    }
   ],
   "source": [
    "import numpy as np\n",
    "import matplotlib.pyplot as plt\n",
    "import folium\n",
    "import ipyleaflet\n",
    "from base64 import b64encode\n",
    "\n",
    "vmin = 0\n",
    "vmax = 2000\n",
    "\n",
    "import matplotlib\n",
    "cmap = matplotlib.cm.get_cmap(\"viridis\")\n",
    "\n",
    "# testing - not used here\n",
    "import branca.colormap as cm\n",
    "bcmap = cm.linear.viridis.scale(vmin=vmin, vmax=vmax).to_step(n=4)\n",
    "bcmap.caption = 'my color scale'\n",
    "bcmap\n"
   ]
  },
  {
   "cell_type": "markdown",
   "id": "e9e45422-17ef-4e74-973d-c17a93bd9631",
   "metadata": {},
   "source": [
    "# Create data"
   ]
  },
  {
   "cell_type": "code",
   "execution_count": 88,
   "id": "fb6a920e-c583-4bdc-91d4-d5fd8fa8c2a4",
   "metadata": {},
   "outputs": [
    {
     "name": "stdout",
     "output_type": "stream",
     "text": [
      "[[1000. 2000. 2000. 2000. 2000.]\n",
      " [2000. 1000.    0.    0. 2000.]\n",
      " [2000.    0.   nan    0. 2000.]\n",
      " [2000.    0.    0. 1000. 2000.]\n",
      " [2000. 2000. 2000. 2000. 1000.]]\n"
     ]
    },
    {
     "data": {
      "text/plain": [
       "<matplotlib.colorbar.Colorbar at 0x7f815c28a550>"
      ]
     },
     "execution_count": 88,
     "metadata": {},
     "output_type": "execute_result"
    },
    {
     "data": {
      "image/png": "[encoded data removed]",
      "text/plain": [
       "<Figure size 432x288 with 2 Axes>"
      ]
     },
     "metadata": {
      "needs_background": "light"
     },
     "output_type": "display_data"
    }
   ],
   "source": [
    "n = 5\n",
    "data = np.zeros((n, n))\n",
    "\n",
    "# borders are vmax\n",
    "data[0, :] = vmax\n",
    "data[-1, :] = vmax\n",
    "data[:, 0] = vmax\n",
    "data[:, -1] = vmax\n",
    "\n",
    "# diagonal is vmax/2\n",
    "for i in np.arange(n):\n",
    "    data[i,i] = vmax/2\n",
    "    \n",
    "# central point is nan (see transparencu)\n",
    "data[int(n/2),int(n/2)] = np.nan\n",
    "\n",
    "print(data)\n",
    "\n",
    "plt.imshow(data, cmap=cmap)\n",
    "plt.colorbar()"
   ]
  },
  {
   "cell_type": "markdown",
   "id": "4f2c3cf2-3e20-4731-9e5c-eab8e0a3a3c0",
   "metadata": {},
   "source": [
    "## plot png"
   ]
  },
  {
   "cell_type": "code",
   "execution_count": 89,
   "id": "d90980d8-3709-4651-8095-c11326568764",
   "metadata": {},
   "outputs": [
    {
     "data": {
      "image/png": "[encoded data removed]",
      "text/plain": [
       "<Figure size 432x288 with 1 Axes>"
      ]
     },
     "metadata": {
      "needs_background": "light"
     },
     "output_type": "display_data"
    }
   ],
   "source": [
    "plt.imshow(data, cmap=cmap, aspect='auto', vmin=vmin, vmax=vmax)\n",
    "plt.axis('off')\n",
    "plt.savefig('temp.png', transparent=True, bbox_inches='tight', dpi=500)"
   ]
  },
  {
   "cell_type": "markdown",
   "id": "8d1a8135-1e41-45d2-aff5-bf84ec342b7b",
   "metadata": {},
   "source": [
    "## read png as base64"
   ]
  },
  {
   "cell_type": "code",
   "execution_count": 90,
   "id": "0483cb67-2373-4d5d-b0b0-fdb2169577e3",
   "metadata": {},
   "outputs": [],
   "source": [
    "from base64 import b64encode\n",
    "\n",
    "with open('temp.png', \"rb\") as f:\n",
    "    data1 = b64encode(f.read())\n",
    "    data1 = data1.decode(\"ascii\")\n",
    "    imgurl = \"data:image/png;base64,\" + data1"
   ]
  },
  {
   "cell_type": "code",
   "execution_count": 106,
   "id": "2722b4ae-5377-4d2e-a664-627cd5dceda2",
   "metadata": {},
   "outputs": [
    {
     "name": "stdout",
     "output_type": "stream",
     "text": [
      "175 180 -39 -34\n",
      "[-36.5, 177.5]\n"
     ]
    }
   ],
   "source": [
    "# bottom left\n",
    "x1,y1 = 175,-39\n",
    "x2,y2 = x1+n,y1+n\n",
    "print(x1,x2,y1,y2)\n",
    "\n",
    "bounds = [[y1, x1], [y2, x2]]\n",
    "center = [(y1+y2)/2, (x1+x2)/2]\n",
    "print(center)\n"
   ]
  },
  {
   "cell_type": "markdown",
   "id": "a8c1ae71-4682-4309-ab3d-ad1faffd011c",
   "metadata": {},
   "source": [
    "## get gridlines "
   ]
  },
  {
   "cell_type": "code",
   "execution_count": 107,
   "id": "958da294-b033-4bf9-8153-c5c207755f48",
   "metadata": {},
   "outputs": [],
   "source": [
    "def get_latlon_gridlines(window=[-180,180,-90,90], dx=10,dy=10):\n",
    "    x1,x2,y1,y2 = window\n",
    "    gridlines = []\n",
    "    # parallels for each lat\n",
    "    for lat in np.arange(y1, y2+dy/2, dy):\n",
    "        gridlines += [([lat,x1], [lat,x2])]\n",
    "    # meridians for each lon    \n",
    "    for lon in  np.arange(x1, x2+dx/2, dx):\n",
    "        gridlines += [([y1,lon], [y2,lon])]\n",
    "\n",
    "    return(gridlines)\n",
    "\n",
    "gridlines = get_latlon_gridlines(window=[x1,x2,y1,y2], dx=1,dy=1)"
   ]
  },
  {
   "cell_type": "code",
   "execution_count": 108,
   "id": "65f96d2e-c308-4972-b855-c6c8f8d19894",
   "metadata": {},
   "outputs": [
    {
     "data": {
      "text/plain": [
       "[([-39.0, 175], [-39.0, 180]),\n",
       " ([-38.0, 175], [-38.0, 180]),\n",
       " ([-37.0, 175], [-37.0, 180]),\n",
       " ([-36.0, 175], [-36.0, 180]),\n",
       " ([-35.0, 175], [-35.0, 180]),\n",
       " ([-34.0, 175], [-34.0, 180]),\n",
       " ([-39, 175.0], [-34, 175.0]),\n",
       " ([-39, 176.0], [-34, 176.0]),\n",
       " ([-39, 177.0], [-34, 177.0]),\n",
       " ([-39, 178.0], [-34, 178.0]),\n",
       " ([-39, 179.0], [-34, 179.0]),\n",
       " ([-39, 180.0], [-34, 180.0])]"
      ]
     },
     "execution_count": 108,
     "metadata": {},
     "output_type": "execute_result"
    }
   ],
   "source": [
    "gridlines"
   ]
  },
  {
   "cell_type": "markdown",
   "id": "7ddf7dfb-c5fb-444c-ba55-65bec8d7f194",
   "metadata": {},
   "source": [
    "# Plot"
   ]
  },
  {
   "cell_type": "markdown",
   "id": "015c4f96-59c6-4035-a4e6-b775da3929f9",
   "metadata": {},
   "source": [
    "## folium\n",
    "- raw data ok\n",
    "- png base64 is shrinked"
   ]
  },
  {
   "cell_type": "code",
   "execution_count": 109,
   "id": "expanded-adventure",
   "metadata": {
    "tags": []
   },
   "outputs": [
    {
     "data": {
      "text/html": [
       "<div style=\"width:100%;\"><div style=\"position:relative;width:100%;height:0;padding-bottom:60%;\"><span style=\"color:#565656\">Make this Notebook Trusted to load map: File -> Trust Notebook</span><iframe srcdoc=\"&lt;!DOCTYPE html&gt;\n",
       "&lt;html&gt;\n",
       "&lt;head&gt;\n",
       "    \n",
       "    &lt;meta http-equiv=&quot;content-type&quot; content=&quot;text/html; charset=UTF-8&quot; /&gt;\n",
       "    \n",
       "        &lt;script&gt;\n",
       "            L_NO_TOUCH = false;\n",
       "            L_DISABLE_3D = false;\n",
       "        &lt;/script&gt;\n",
       "    \n",
       "    &lt;style&gt;html, body {width: 100%;height: 100%;margin: 0;padding: 0;}&lt;/style&gt;\n",
       "    &lt;style&gt;#map {position:absolute;top:0;bottom:0;right:0;left:0;}&lt;/style&gt;\n",
       "    &lt;script src=&quot;https://cdn.jsdelivr.net/npm/leaflet@1.9.3/dist/leaflet.js&quot;&gt;&lt;/script&gt;\n",
       "    &lt;script src=&quot;https://code.jquery.com/jquery-1.12.4.min.js&quot;&gt;&lt;/script&gt;\n",
       "    &lt;script src=&quot;https://cdn.jsdelivr.net/npm/bootstrap@5.2.2/dist/js/bootstrap.bundle.min.js&quot;&gt;&lt;/script&gt;\n",
       "    &lt;script src=&quot;https://cdnjs.cloudflare.com/ajax/libs/Leaflet.awesome-markers/2.0.2/leaflet.awesome-markers.js&quot;&gt;&lt;/script&gt;\n",
       "    &lt;link rel=&quot;stylesheet&quot; href=&quot;https://cdn.jsdelivr.net/npm/leaflet@1.9.3/dist/leaflet.css&quot;/&gt;\n",
       "    &lt;link rel=&quot;stylesheet&quot; href=&quot;https://cdn.jsdelivr.net/npm/bootstrap@5.2.2/dist/css/bootstrap.min.css&quot;/&gt;\n",
       "    &lt;link rel=&quot;stylesheet&quot; href=&quot;https://netdna.bootstrapcdn.com/bootstrap/3.0.0/css/bootstrap.min.css&quot;/&gt;\n",
       "    &lt;link rel=&quot;stylesheet&quot; href=&quot;https://cdn.jsdelivr.net/npm/@fortawesome/fontawesome-free@6.2.0/css/all.min.css&quot;/&gt;\n",
       "    &lt;link rel=&quot;stylesheet&quot; href=&quot;https://cdnjs.cloudflare.com/ajax/libs/Leaflet.awesome-markers/2.0.2/leaflet.awesome-markers.css&quot;/&gt;\n",
       "    &lt;link rel=&quot;stylesheet&quot; href=&quot;https://cdn.jsdelivr.net/gh/python-visualization/folium/folium/templates/leaflet.awesome.rotate.min.css&quot;/&gt;\n",
       "    \n",
       "            &lt;meta name=&quot;viewport&quot; content=&quot;width=device-width,\n",
       "                initial-scale=1.0, maximum-scale=1.0, user-scalable=no&quot; /&gt;\n",
       "            &lt;style&gt;\n",
       "                #map_1dc787977b7b7195052afe62e0c27eac {\n",
       "                    position: relative;\n",
       "                    width: 100.0%;\n",
       "                    height: 100.0%;\n",
       "                    left: 0.0%;\n",
       "                    top: 0.0%;\n",
       "                }\n",
       "                .leaflet-container { font-size: 1rem; }\n",
       "            &lt;/style&gt;\n",
       "        \n",
       "    \n",
       "                &lt;style&gt;\n",
       "                    .leaflet-image-layer {\n",
       "                        /* old android/safari*/\n",
       "                        image-rendering: -webkit-optimize-contrast;\n",
       "                        image-rendering: crisp-edges; /* safari */\n",
       "                        image-rendering: pixelated; /* chrome */\n",
       "                        image-rendering: -moz-crisp-edges; /* firefox */\n",
       "                        image-rendering: -o-crisp-edges; /* opera */\n",
       "                        -ms-interpolation-mode: nearest-neighbor; /* ie */\n",
       "                    }\n",
       "                &lt;/style&gt;\n",
       "            \n",
       "&lt;/head&gt;\n",
       "&lt;body&gt;\n",
       "    \n",
       "    \n",
       "            &lt;div class=&quot;folium-map&quot; id=&quot;map_1dc787977b7b7195052afe62e0c27eac&quot; &gt;&lt;/div&gt;\n",
       "        \n",
       "&lt;/body&gt;\n",
       "&lt;script&gt;\n",
       "    \n",
       "    \n",
       "            var map_1dc787977b7b7195052afe62e0c27eac = L.map(\n",
       "                &quot;map_1dc787977b7b7195052afe62e0c27eac&quot;,\n",
       "                {\n",
       "                    center: [-36.5, 177.5],\n",
       "                    crs: L.CRS.EPSG3857,\n",
       "                    zoom: 2,\n",
       "                    zoomControl: true,\n",
       "                    preferCanvas: false,\n",
       "                }\n",
       "            );\n",
       "\n",
       "            \n",
       "\n",
       "        \n",
       "    \n",
       "            var tile_layer_43d5db9b19655dc251fe0162a9db351e = L.tileLayer(\n",
       "                &quot;https://{s}.tile.openstreetmap.org/{z}/{x}/{y}.png&quot;,\n",
       "                {&quot;attribution&quot;: &quot;Data by \\u0026copy; \\u003ca target=\\&quot;_blank\\&quot; href=\\&quot;http://openstreetmap.org\\&quot;\\u003eOpenStreetMap\\u003c/a\\u003e, under \\u003ca target=\\&quot;_blank\\&quot; href=\\&quot;http://www.openstreetmap.org/copyright\\&quot;\\u003eODbL\\u003c/a\\u003e.&quot;, &quot;detectRetina&quot;: false, &quot;maxNativeZoom&quot;: 18, &quot;maxZoom&quot;: 18, &quot;minZoom&quot;: 0, &quot;noWrap&quot;: false, &quot;opacity&quot;: 1, &quot;subdomains&quot;: &quot;abc&quot;, &quot;tms&quot;: false}\n",
       "            ).addTo(map_1dc787977b7b7195052afe62e0c27eac);\n",
       "        \n",
       "    \n",
       "            var poly_line_62c43310312a5f5521fd0cb898d7d2a1 = L.polyline(\n",
       "                [[[-39.0, 175.0], [-39.0, 180.0]], [[-38.0, 175.0], [-38.0, 180.0]], [[-37.0, 175.0], [-37.0, 180.0]], [[-36.0, 175.0], [-36.0, 180.0]], [[-35.0, 175.0], [-35.0, 180.0]], [[-34.0, 175.0], [-34.0, 180.0]], [[-39.0, 175.0], [-34.0, 175.0]], [[-39.0, 176.0], [-34.0, 176.0]], [[-39.0, 177.0], [-34.0, 177.0]], [[-39.0, 178.0], [-34.0, 178.0]], [[-39.0, 179.0], [-34.0, 179.0]], [[-39.0, 180.0], [-34.0, 180.0]]],\n",
       "                {&quot;bubblingMouseEvents&quot;: true, &quot;color&quot;: &quot;gray&quot;, &quot;dashArray&quot;: null, &quot;dashOffset&quot;: null, &quot;fill&quot;: false, &quot;fillColor&quot;: &quot;gray&quot;, &quot;fillOpacity&quot;: 0.2, &quot;fillRule&quot;: &quot;evenodd&quot;, &quot;lineCap&quot;: &quot;round&quot;, &quot;lineJoin&quot;: &quot;round&quot;, &quot;noClip&quot;: false, &quot;opacity&quot;: 1.0, &quot;smoothFactor&quot;: 1.0, &quot;stroke&quot;: true, &quot;weight&quot;: 0.5}\n",
       "            ).addTo(map_1dc787977b7b7195052afe62e0c27eac);\n",
       "        \n",
       "    \n",
       "            var image_overlay_55cfd709cd83a451acd03df8133bc71b = L.imageOverlay(\n",
       "                &quot;data:image/png;base64,iVBORw0KGgoAAAANSUhEUgAAAAUAAAAFCAYAAACNbyblAAAAJElEQVR42mP4/z//PzpmgDFcGP+DMVwQxGEAAgxBmACKdmQMAGbqSytc8MF8AAAAAElFTkSuQmCC&quot;,\n",
       "                [[-39, 175], [-34, 180]],\n",
       "                {&quot;opacity&quot;: 0.6}\n",
       "            ).addTo(map_1dc787977b7b7195052afe62e0c27eac);\n",
       "        \n",
       "    \n",
       "            var image_overlay_a987dde385a7370851e6e3b7b66c2500 = L.imageOverlay(\n",
       "                &quot;data:image/png;base64,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&quot;,\n",
       "                [[-39, 175], [-34, 180]],\n",
       "                {&quot;opacity&quot;: 0.6}\n",
       "            ).addTo(map_1dc787977b7b7195052afe62e0c27eac);\n",
       "        \n",
       "    \n",
       "            var layer_control_4092ca59712f5c19fccbdc6a11093974 = {\n",
       "                base_layers : {\n",
       "                    &quot;openstreetmap&quot; : tile_layer_43d5db9b19655dc251fe0162a9db351e,\n",
       "                },\n",
       "                overlays :  {\n",
       "                    &quot;raw data&quot; : image_overlay_55cfd709cd83a451acd03df8133bc71b,\n",
       "                    &quot;png base64&quot; : image_overlay_a987dde385a7370851e6e3b7b66c2500,\n",
       "                },\n",
       "            };\n",
       "            L.control.layers(\n",
       "                layer_control_4092ca59712f5c19fccbdc6a11093974.base_layers,\n",
       "                layer_control_4092ca59712f5c19fccbdc6a11093974.overlays,\n",
       "                {&quot;autoZIndex&quot;: true, &quot;collapsed&quot;: false, &quot;position&quot;: &quot;topleft&quot;}\n",
       "            ).addTo(map_1dc787977b7b7195052afe62e0c27eac);\n",
       "        \n",
       "    \n",
       "            map_1dc787977b7b7195052afe62e0c27eac.fitBounds(\n",
       "                [[-39.0, 175.0], [-34.0, 180.0]],\n",
       "                {&quot;maxZoom&quot;: 14}\n",
       "            );\n",
       "        \n",
       "&lt;/script&gt;\n",
       "&lt;/html&gt;\" style=\"position:absolute;width:100%;height:100%;left:0;top:0;border:none !important;\" allowfullscreen webkitallowfullscreen mozallowfullscreen></iframe></div></div>"
      ],
      "text/plain": [
       "<folium.folium.Map at 0x7f815c1dd1f0>"
      ]
     },
     "execution_count": 109,
     "metadata": {},
     "output_type": "execute_result"
    }
   ],
   "source": [
    "m = folium.Map(center, zoom_start=2)\n",
    "\n",
    "folium.PolyLine(gridlines, color='gray', weight=0.5, name='gridlines').add_to(m)\n",
    "\n",
    "folium.raster_layers.ImageOverlay(\n",
    "    name='raw data',\n",
    "    image=data,\n",
    "    bounds=bounds,\n",
    "    colormap=cmap,\n",
    "    opacity=0.6,\n",
    ").add_to(m)\n",
    "\n",
    "folium.raster_layers.ImageOverlay(\n",
    "    name='png base64',\n",
    "    image=imgurl,\n",
    "    bounds=bounds,\n",
    "    opacity=0.6,\n",
    ").add_to(m)\n",
    "\n",
    "m.add_child(folium.map.LayerControl(position='topleft', collapsed=False))\n",
    "m.fit_bounds(m.get_bounds(),max_zoom=14)\n",
    "\n",
    "# maybe we could do a colormap based on ColorLine\n",
    "# folium.ColorLine(positions=[[70,-60],[70,0], [70,60]], colors=[0,1], colormap=['r','g'], weigth=10).add_to(m)\n",
    "\n",
    "m"
   ]
  },
  {
   "cell_type": "markdown",
   "id": "01f85189-c981-4d2e-8ef5-52a07c270394",
   "metadata": {},
   "source": [
    "## ipyleaflet \n",
    "- doesn't plot raw data (np.array)\n",
    "- png base64 is shrinked too"
   ]
  },
  {
   "cell_type": "code",
   "execution_count": 111,
   "id": "integral-casting",
   "metadata": {},
   "outputs": [
    {
     "data": {
      "application/vnd.jupyter.widget-view+json": {
       "model_id": "62293f6dacaa4a5db20abb36a5630ea6",
       "version_major": 2,
       "version_minor": 0
      },
      "text/plain": [
       "Map(center=[-36.5, 177.5], controls=(ZoomControl(options=['position', 'zoom_in_text', 'zoom_in_title', 'zoom_o…"
      ]
     },
     "metadata": {},
     "output_type": "display_data"
    }
   ],
   "source": [
    "m = ipyleaflet.Map(center=center, zoom=4)\n",
    "\n",
    "m.add_layer(\n",
    "    ipyleaflet.Polyline(\n",
    "        locations=gridlines, \n",
    "        color=\"gray\" , \n",
    "        fill=False, \n",
    "        weight=1\n",
    "    )\n",
    ")\n",
    "\n",
    "# TraitError: The 'url' trait of an ImageOverlay instance expected a unicode string, not the ndarray array([[1000., 1000., 1000., ..., 2000., 2000., 2000.],\n",
    "# m.add_layer(\n",
    "#     ipyleaflet.ImageOverlay(\n",
    "#         url=data, \n",
    "#         bounds=bounds,\n",
    "#         colormap=cmap\n",
    "#     )\n",
    "# )\n",
    "\n",
    "m.add_layer(\n",
    "    ipyleaflet.ImageOverlay(\n",
    "        url=imgurl, \n",
    "        bounds=bounds,\n",
    "        colormap=cmap\n",
    "    )\n",
    ")\n",
    "\n",
    "m"
   ]
  }
 ],
 "metadata": {
  "kernelspec": {
   "display_name": "Python 3",
   "language": "python",
   "name": "python3"
  },
  "language_info": {
   "codemirror_mode": {
    "name": "ipython",
    "version": 3
   },
   "file_extension": ".py",
   "mimetype": "text/x-python",
   "name": "python",
   "nbconvert_exporter": "python",
   "pygments_lexer": "ipython3",
   "version": "3.8.8"
  }
 },
 "nbformat": 4,
 "nbformat_minor": 5
}
